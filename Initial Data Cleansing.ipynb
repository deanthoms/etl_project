{
 "cells": [
  {
   "cell_type": "code",
   "execution_count": 15,
   "metadata": {},
   "outputs": [],
   "source": [
    "import pandas as pd"
   ]
  },
  {
   "cell_type": "code",
   "execution_count": 16,
   "metadata": {},
   "outputs": [],
   "source": [
    "# Read in the raw Kaggle Income Dataset\n",
    "kaggle_income_df = pd.read_csv('county_income.csv',encoding='iso8859_8')"
   ]
  },
  {
   "cell_type": "code",
   "execution_count": 17,
   "metadata": {},
   "outputs": [
    {
     "data": {
      "text/plain": [
       "id            32211\n",
       "State_Code    32211\n",
       "State_Name    32211\n",
       "State_ab      32211\n",
       "County        32211\n",
       "City          32211\n",
       "Place         32211\n",
       "Type          32211\n",
       "Primary       32211\n",
       "Zip_Code      32211\n",
       "Area_Code     32211\n",
       "ALand         32211\n",
       "AWater        32211\n",
       "Lat           32211\n",
       "Lon           32211\n",
       "Mean          32211\n",
       "Median        32211\n",
       "Stdev         32211\n",
       "sum_w         32211\n",
       "dtype: int64"
      ]
     },
     "execution_count": 17,
     "metadata": {},
     "output_type": "execute_result"
    }
   ],
   "source": [
    "# Drop records where the household count is equal to 0\n",
    "df = kaggle_income_df[kaggle_income_df.sum_w != 0]\n",
    "df.count()"
   ]
  },
  {
   "cell_type": "code",
   "execution_count": 18,
   "metadata": {},
   "outputs": [
    {
     "data": {
      "text/html": [
       "<div>\n",
       "<style scoped>\n",
       "    .dataframe tbody tr th:only-of-type {\n",
       "        vertical-align: middle;\n",
       "    }\n",
       "\n",
       "    .dataframe tbody tr th {\n",
       "        vertical-align: top;\n",
       "    }\n",
       "\n",
       "    .dataframe thead th {\n",
       "        text-align: right;\n",
       "    }\n",
       "</style>\n",
       "<table border=\"1\" class=\"dataframe\">\n",
       "  <thead>\n",
       "    <tr style=\"text-align: right;\">\n",
       "      <th></th>\n",
       "      <th>State</th>\n",
       "      <th>County</th>\n",
       "      <th>Normalization</th>\n",
       "    </tr>\n",
       "  </thead>\n",
       "  <tbody>\n",
       "    <tr>\n",
       "      <th>0</th>\n",
       "      <td>Georgia</td>\n",
       "      <td>Muscogee</td>\n",
       "      <td>Muscogee County</td>\n",
       "    </tr>\n",
       "    <tr>\n",
       "      <th>1</th>\n",
       "      <td>Iowa</td>\n",
       "      <td>O'Brien County</td>\n",
       "      <td>OBrien County</td>\n",
       "    </tr>\n",
       "    <tr>\n",
       "      <th>2</th>\n",
       "      <td>Maryland</td>\n",
       "      <td>Prince George's County</td>\n",
       "      <td>Prince Georges County</td>\n",
       "    </tr>\n",
       "    <tr>\n",
       "      <th>3</th>\n",
       "      <td>Virginia</td>\n",
       "      <td>Bedford County</td>\n",
       "      <td>Bedford City and County</td>\n",
       "    </tr>\n",
       "    <tr>\n",
       "      <th>4</th>\n",
       "      <td>Virginia</td>\n",
       "      <td>Halifax County</td>\n",
       "      <td>Halifax County</td>\n",
       "    </tr>\n",
       "    <tr>\n",
       "      <th>5</th>\n",
       "      <td>Virginia</td>\n",
       "      <td>Manassas</td>\n",
       "      <td>Manassas City</td>\n",
       "    </tr>\n",
       "    <tr>\n",
       "      <th>6</th>\n",
       "      <td>Virginia</td>\n",
       "      <td>Richmond</td>\n",
       "      <td>Richmond City</td>\n",
       "    </tr>\n",
       "    <tr>\n",
       "      <th>7</th>\n",
       "      <td>Virginia</td>\n",
       "      <td>Waynesboro</td>\n",
       "      <td>Waynesboro City</td>\n",
       "    </tr>\n",
       "    <tr>\n",
       "      <th>8</th>\n",
       "      <td>Virginia</td>\n",
       "      <td>Winchester</td>\n",
       "      <td>Winchester City</td>\n",
       "    </tr>\n",
       "  </tbody>\n",
       "</table>\n",
       "</div>"
      ],
      "text/plain": [
       "      State                  County           Normalization \n",
       "0   Georgia                Muscogee          Muscogee County\n",
       "1      Iowa          O'Brien County            OBrien County\n",
       "2  Maryland  Prince George's County    Prince Georges County\n",
       "3  Virginia          Bedford County  Bedford City and County\n",
       "4  Virginia          Halifax County           Halifax County\n",
       "5  Virginia                Manassas            Manassas City\n",
       "6  Virginia                Richmond            Richmond City\n",
       "7  Virginia              Waynesboro          Waynesboro City\n",
       "8  Virginia              Winchester          Winchester City"
      ]
     },
     "execution_count": 18,
     "metadata": {},
     "output_type": "execute_result"
    }
   ],
   "source": [
    "# Read in normalization data set\n",
    "norm_df = pd.read_csv('normalization.csv')\n",
    "norm_df"
   ]
  },
  {
   "cell_type": "code",
   "execution_count": 19,
   "metadata": {},
   "outputs": [],
   "source": [
    "# Join in the normalization table\n",
    "combined_df = pd.merge(df,norm_df,how='left',left_on=['State_Name', 'County'], right_on=['State', 'County'])\n",
    " "
   ]
  },
  {
   "cell_type": "code",
   "execution_count": 20,
   "metadata": {},
   "outputs": [],
   "source": [
    "# Find row count of dataframe\n",
    "length = combined_df['id'].count()\n",
    "# Find column count of dataframe\n",
    "width = len(combined_df.columns)"
   ]
  },
  {
   "cell_type": "code",
   "execution_count": 21,
   "metadata": {},
   "outputs": [],
   "source": [
    "# Loop through the rows and if the Normalization column is NOT NaN then replace city with that\n",
    "for row in range(0,length-1):\n",
    "    if pd.isnull(combined_df.iloc[row, width-1]):\n",
    "        combined_df.iloc[row, 4] = combined_df.iloc[row, 4]\n",
    "    else:\n",
    "        combined_df.iloc[row, 4] = combined_df.iloc[row, width-1]"
   ]
  },
  {
   "cell_type": "markdown",
   "metadata": {},
   "source": [
    "pd.csv_write()"
   ]
  },
  {
   "cell_type": "code",
   "execution_count": 22,
   "metadata": {},
   "outputs": [],
   "source": [
    "# Write final csv file\n",
    "combined_df.to_csv('final_income_data.csv')"
   ]
  },
  {
   "cell_type": "markdown",
   "metadata": {},
   "source": [
    "## Using the following cells to store SQL queries"
   ]
  },
  {
   "cell_type": "markdown",
   "metadata": {},
   "source": [
    "SELECT kaggle_income_data.state_name, kaggle_income_data.county, southeast_counties.casecount, southeast_counties.population, southeast_counties.sex, sum(kaggle_income_data.sum_w) as household_count ,sum(kaggle_income_data.mean * kaggle_income_data.sum_w) as extended_income\n",
    "FROM kaggle_income_data\n",
    "INNER JOIN southeast_counties ON (kaggle_income_data.state_name = southeast_counties.area and kaggle_income_data.county = southeast_counties.county)\n",
    "GROUP BY kaggle_income_data.state_name, kaggle_income_data.county, southeast_counties.casecount, southeast_counties.population, southeast_counties.sex;"
   ]
  },
  {
   "cell_type": "code",
   "execution_count": null,
   "metadata": {},
   "outputs": [],
   "source": []
  }
 ],
 "metadata": {
  "kernelspec": {
   "display_name": "Python 36 (PythonData36)",
   "language": "python",
   "name": "pythondata36"
  },
  "language_info": {
   "codemirror_mode": {
    "name": "ipython",
    "version": 3
   },
   "file_extension": ".py",
   "mimetype": "text/x-python",
   "name": "python",
   "nbconvert_exporter": "python",
   "pygments_lexer": "ipython3",
   "version": "3.6.8"
  }
 },
 "nbformat": 4,
 "nbformat_minor": 2
}
